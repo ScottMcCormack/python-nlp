{
 "cells": [
  {
   "cell_type": "code",
   "execution_count": 1,
   "metadata": {},
   "outputs": [],
   "source": [
    "import nltk\n",
    "# nltk.download('stopwords')"
   ]
  },
  {
   "cell_type": "code",
   "execution_count": 2,
   "metadata": {},
   "outputs": [
    {
     "name": "stdout",
     "output_type": "stream",
     "text": [
      "{'other', 'isn', 'not', 'don', 'then', 'hadn', 'hasn', 'he', 'there', 'was', 'some', \"should've\", \"shan't\", \"that'll\", 'just', 'couldn', 'herself', 'but', 'and', 'those', 'shan', 'again', 'can', 'which', \"wasn't\", \"hasn't\", 'over', 'after', 'ourselves', 'own', 'to', 'during', 'd', 'won', \"weren't\", \"you're\", 'himself', 'were', \"you'd\", 'didn', 'll', \"she's\", 'itself', 'such', 'few', 'in', \"won't\", 'at', \"aren't\", 'have', 'been', 'yourselves', \"it's\", 'm', 'against', 'shouldn', 'him', 'themselves', 'am', 'does', 'until', 'above', 'once', 'when', 'my', 'nor', 'it', 'wasn', 're', 'each', 'any', 'out', 's', 'o', 'haven', 'her', 'doesn', 'our', 'doing', 'so', 'both', \"didn't\", 'theirs', 'by', \"needn't\", 'up', 'i', \"doesn't\", 'y', 't', 'from', \"shouldn't\", 'on', 'into', \"you'll\", 'why', 'myself', 'aren', 'these', 'with', 'has', 'or', \"mustn't\", 'you', 'as', 'be', 'they', 'this', \"couldn't\", 'while', 'how', 'of', 'weren', 'an', 'same', 'she', 'down', 'further', 'the', 'being', 'ain', \"mightn't\", 'are', 'needn', 'now', 'whom', \"you've\", 'off', 'wouldn', 'than', 'where', 'having', 'very', 'me', 'a', 'them', 'under', 'your', 'between', 'mightn', 'yours', 'if', 'who', 'yourself', 'no', 've', 'its', 'ma', 'about', 'do', \"don't\", 'for', 'should', 'will', 'we', 'his', 'mustn', 'had', 'is', \"haven't\", 'too', 'what', 'because', 'before', 'most', 'hers', 'through', 'ours', 'below', 'their', 'did', 'all', \"hadn't\", 'only', 'that', \"wouldn't\", 'more', 'here', \"isn't\"}\n"
     ]
    }
   ],
   "source": [
    "english_stopwords = set(nltk.corpus.stopwords.words('english'))\n",
    "print(english_stopwords)\n",
    "# \"set\" is used because they are fast for checking membership"
   ]
  },
  {
   "cell_type": "code",
   "execution_count": 3,
   "metadata": {},
   "outputs": [
    {
     "name": "stdout",
     "output_type": "stream",
     "text": [
      "{'estaría', 'habrá', 'he', 'hubieras', 'estarías', 'les', 'hubiéramos', 'tened', 'tuvimos', 'habéis', 'todos', 'fueseis', 'estuviéramos', 'fue', 'esto', 'hasta', 'estáis', 'teníamos', 'sois', 'un', 'suyos', 'tendrías', 'hubiésemos', 'como', 'tuvisteis', 'fuésemos', 'fuimos', 'hubieseis', 'vosotros', 'estabas', 'habrías', 'tengamos', 'tanto', 'nos', 'hubiesen', 'vuestros', 'la', 'tu', 'hube', 'nosotros', 'serías', 'hay', 'estando', 'habíais', 'míos', 'habían', 'para', 'eras', 'estés', 'has', 'soy', 'algunos', 'tienes', 'él', 'siente', 'estabais', 'sus', 'entre', 'tienen', 'os', 'sentidos', 'estuviesen', 'poco', 'tengo', 'nada', 'está', 'hubo', 'tus', 'el', 'tuvieseis', 'sentid', 'porque', 'habidas', 'fui', 'vosotras', 'seáis', 'algo', 'ante', 'habré', 'hubiste', 'seréis', 'esas', 'te', 'estada', 'estén', 'habréis', 'sean', 'habríamos', 'tuvieron', 'los', 'nuestro', 'nuestros', 'estuviese', 'serán', 'haya', 'eso', 'qué', 'hubiera', 'mis', 'habías', 'tendrás', 'al', 'mía', 'durante', 'estuvieses', 'tendrían', 'mí', 'ese', 'estuvierais', 'éramos', 'sería', 'con', 'sentido', 'habrían', 'otra', 'estuviera', 'estado', 'sentida', 'estarán', 'estaremos', 'estadas', 'uno', 'y', 'fuera', 'estaríais', 'tenido', 'por', 'otras', 'suyo', 'las', 'ha', 'tenía', 'yo', 'tendría', 'hayas', 'quien', 'suyas', 'cual', 'hemos', 'tenemos', 'tuviéramos', 'estará', 'tenías', 'erais', 'me', 'a', 'desde', 'habríais', 'hayan', 'tuvo', 'estás', 'sintiendo', 'habíamos', 'estaré', 'hubimos', 'estas', 'hubierais', 'tuyas', 'era', 'son', 'algunas', 'fueran', 'fuesen', 'vuestra', 'ya', 'estuvo', 'estuvieseis', 'tuviésemos', 'estuviésemos', 'tenga', 'hubieses', 'habiendo', 'nuestras', 'se', 'estados', 'tengan', 'sobre', 'tuviera', 'otros', 'fuese', 'cuando', 'que', 'ni', 'fuerais', 'estoy', 'contra', 'este', 'fueses', 'tendremos', 'tenidos', 'hayamos', 'muchos', 'esa', 'eran', 'vuestro', 'habrás', 'teniendo', 'lo', 'ella', 'fuiste', 'hayáis', 'habrán', 'estarían', 'estábamos', 'serás', 'habido', 'tendrá', 'tuya', 'estuvieran', 'tuviesen', 'mías', 'hubieron', 'le', 'serían', 'tiene', 'antes', 'donde', 'ellos', 'estos', 'quienes', 'e', 'tú', 'pero', 'no', 'mío', 'sin', 'somos', 'seamos', 'ti', 'tengas', 'estaréis', 'tuvierais', 'sí', 'mi', 'otro', 'ellas', 'mucho', 'estarás', 'estéis', 'fuéramos', 'unos', 'tenían', 'estaba', 'esos', 'han', 'fuisteis', 'seríais', 'eres', 'tendréis', 'estad', 'teníais', 'en', 'estuvieras', 'seré', 'estaríamos', 'habría', 'había', 'estamos', 'seremos', 'fueron', 'estuvieron', 'estuve', 'más', 'sentidas', 'vuestras', 'será', 'están', 'tuvieras', 'tenida', 'una', 'tuviese', 'esta', 'del', 'estuvimos', 'hubisteis', 'o', 'estemos', 'todo', 'seas', 'tuvieses', 'fueras', 'habidos', 'tendrán', 'seríamos', 'suya', 'estaban', 'habida', 'tuviste', 'tengáis', 'estuviste', 'tenéis', 'tendré', 'sea', 'también', 'nuestra', 'tuvieran', 'hubieran', 'su', 'tendríais', 'tuyos', 'tuve', 'hubiese', 'de', 'tendríamos', 'estar', 'tenidas', 'esté', 'estuvisteis', 'es', 'tuyo', 'habremos', 'muy', 'nosotras'}\n"
     ]
    }
   ],
   "source": [
    "spanish_stopwords = set(nltk.corpus.stopwords.words('spanish'))\n",
    "print(spanish_stopwords)"
   ]
  },
  {
   "cell_type": "code",
   "execution_count": 4,
   "metadata": {},
   "outputs": [
    {
     "name": "stdout",
     "output_type": "stream",
     "text": [
      "['chicken', 'went', 'house', 'humiliate', 'man', '.']\n"
     ]
    }
   ],
   "source": [
    "# Here we remove stop words to get the gist of a sentence\n",
    "from nltk.tokenize import word_tokenize\n",
    "text = \"The chicken went to the house to humiliate the man.\"\n",
    "tokens = word_tokenize(text)\n",
    "content_tokens = [token for token in tokens if token.lower() not in english_stopwords]\n",
    "print(content_tokens)"
   ]
  }
 ],
 "metadata": {
  "kernelspec": {
   "display_name": "Python 3 (ipykernel)",
   "language": "python",
   "name": "python3"
  },
  "language_info": {
   "codemirror_mode": {
    "name": "ipython",
    "version": 3
   },
   "file_extension": ".py",
   "mimetype": "text/x-python",
   "name": "python",
   "nbconvert_exporter": "python",
   "pygments_lexer": "ipython3",
   "version": "3.8.10"
  }
 },
 "nbformat": 4,
 "nbformat_minor": 4
}
