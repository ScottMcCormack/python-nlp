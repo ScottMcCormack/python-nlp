{
 "cells": [
  {
   "cell_type": "markdown",
   "metadata": {},
   "source": [
    "## Tokenization in NLTK"
   ]
  },
  {
   "cell_type": "code",
   "execution_count": 1,
   "metadata": {},
   "outputs": [
    {
     "name": "stdout",
     "output_type": "stream",
     "text": [
      "['The', 'chicken', 'danced', 'because', 'she', 'loved', 'disco', '.']\n"
     ]
    }
   ],
   "source": [
    "from nltk.tokenize import word_tokenize\n",
    "text1 = \"The chicken danced because she loved disco.\"\n",
    "tokens = word_tokenize(text1)\n",
    "print(tokens)"
   ]
  },
  {
   "cell_type": "code",
   "execution_count": 2,
   "metadata": {},
   "outputs": [
    {
     "name": "stdout",
     "output_type": "stream",
     "text": [
      "['Mr.', 'Smith', 'loves', 'tacos', '.', 'He', 'has', 'a', 'Ph.D.', 'in', 'tacology', '.']\n"
     ]
    }
   ],
   "source": [
    "# notice the 'Mr.' is one token but 'tacology.' is two tokens.\n",
    "text2 = \"Mr. Smith loves tacos. He has a Ph.D. in tacology.\"\n",
    "tokens = word_tokenize(text2)\n",
    "print(tokens)"
   ]
  },
  {
   "cell_type": "markdown",
   "metadata": {},
   "source": [
    "## Tokenization in spaCy"
   ]
  },
  {
   "cell_type": "code",
   "execution_count": 3,
   "metadata": {},
   "outputs": [
    {
     "name": "stdout",
     "output_type": "stream",
     "text": [
      "['The', 'chicken', 'danced', 'because', 'she', 'loved', 'disco', '.']\n"
     ]
    }
   ],
   "source": [
    "import spacy\n",
    "parser = spacy.load(\"en_core_web_sm\")\n",
    "tokens = parser(text1)\n",
    "tokens = [token.orth_ for token in tokens if not token.orth_.isspace()]\n",
    "print(tokens)"
   ]
  },
  {
   "cell_type": "code",
   "execution_count": 4,
   "metadata": {},
   "outputs": [
    {
     "name": "stdout",
     "output_type": "stream",
     "text": [
      "['Mr.', 'Smith', 'loves', 'tacos', '.', 'He', 'has', 'a', 'Ph.D.', 'in', 'tacology', '.']\n"
     ]
    }
   ],
   "source": [
    "tokens = parser(text2)\n",
    "tokens = [token.orth_ for token in tokens if not token.orth_.isspace()]\n",
    "print(tokens)"
   ]
  },
  {
   "cell_type": "code",
   "execution_count": 5,
   "metadata": {},
   "outputs": [
    {
     "data": {
      "text/plain": [
       "['__add__',\n",
       " '__class__',\n",
       " '__contains__',\n",
       " '__delattr__',\n",
       " '__dir__',\n",
       " '__doc__',\n",
       " '__eq__',\n",
       " '__format__',\n",
       " '__ge__',\n",
       " '__getattribute__',\n",
       " '__getitem__',\n",
       " '__getnewargs__',\n",
       " '__gt__',\n",
       " '__hash__',\n",
       " '__init__',\n",
       " '__init_subclass__',\n",
       " '__iter__',\n",
       " '__le__',\n",
       " '__len__',\n",
       " '__lt__',\n",
       " '__mod__',\n",
       " '__mul__',\n",
       " '__ne__',\n",
       " '__new__',\n",
       " '__reduce__',\n",
       " '__reduce_ex__',\n",
       " '__repr__',\n",
       " '__rmod__',\n",
       " '__rmul__',\n",
       " '__setattr__',\n",
       " '__sizeof__',\n",
       " '__str__',\n",
       " '__subclasshook__',\n",
       " 'capitalize',\n",
       " 'casefold',\n",
       " 'center',\n",
       " 'count',\n",
       " 'encode',\n",
       " 'endswith',\n",
       " 'expandtabs',\n",
       " 'find',\n",
       " 'format',\n",
       " 'format_map',\n",
       " 'index',\n",
       " 'isalnum',\n",
       " 'isalpha',\n",
       " 'isascii',\n",
       " 'isdecimal',\n",
       " 'isdigit',\n",
       " 'isidentifier',\n",
       " 'islower',\n",
       " 'isnumeric',\n",
       " 'isprintable',\n",
       " 'isspace',\n",
       " 'istitle',\n",
       " 'isupper',\n",
       " 'join',\n",
       " 'ljust',\n",
       " 'lower',\n",
       " 'lstrip',\n",
       " 'maketrans',\n",
       " 'partition',\n",
       " 'replace',\n",
       " 'rfind',\n",
       " 'rindex',\n",
       " 'rjust',\n",
       " 'rpartition',\n",
       " 'rsplit',\n",
       " 'rstrip',\n",
       " 'split',\n",
       " 'splitlines',\n",
       " 'startswith',\n",
       " 'strip',\n",
       " 'swapcase',\n",
       " 'title',\n",
       " 'translate',\n",
       " 'upper',\n",
       " 'zfill']"
      ]
     },
     "execution_count": 5,
     "metadata": {},
     "output_type": "execute_result"
    }
   ],
   "source": [
    "# tokens in spaCy have a lot of information\n",
    "dir(tokens[0])"
   ]
  },
  {
   "cell_type": "code",
   "execution_count": 6,
   "metadata": {},
   "outputs": [],
   "source": [
    "def print_token(token):\n",
    "    print(\"===================================\")\n",
    "    print(\"value:\", token.orth_)\n",
    "    print(\"lemma:\", token.lemma_)\n",
    "    print(\"shape:\", token.shape_)"
   ]
  },
  {
   "cell_type": "code",
   "execution_count": 7,
   "metadata": {},
   "outputs": [
    {
     "name": "stdout",
     "output_type": "stream",
     "text": [
      "===================================\n",
      "value: He\n",
      "lemma: he\n",
      "shape: Xx\n",
      "===================================\n",
      "value: ran\n",
      "lemma: run\n",
      "shape: xxx\n",
      "===================================\n",
      "value: to\n",
      "lemma: to\n",
      "shape: xx\n",
      "===================================\n",
      "value: the\n",
      "lemma: the\n",
      "shape: xxx\n",
      "===================================\n",
      "value: store\n",
      "lemma: store\n",
      "shape: xxxx\n",
      "===================================\n",
      "value: because\n",
      "lemma: because\n",
      "shape: xxxx\n",
      "===================================\n",
      "value: he\n",
      "lemma: he\n",
      "shape: xx\n",
      "===================================\n",
      "value: was\n",
      "lemma: be\n",
      "shape: xxx\n",
      "===================================\n",
      "value: king\n",
      "lemma: king\n",
      "shape: xxxx\n",
      "===================================\n",
      "value: of\n",
      "lemma: of\n",
      "shape: xx\n",
      "===================================\n",
      "value: the\n",
      "lemma: the\n",
      "shape: xxx\n",
      "===================================\n",
      "value: apes\n",
      "lemma: ape\n",
      "shape: xxxx\n",
      "===================================\n",
      "value: .\n",
      "lemma: .\n",
      "shape: .\n"
     ]
    }
   ],
   "source": [
    "# Note the lemma for \"ran\" and \"was\"\n",
    "text3 = \"He ran to the store because he was king of the apes.\"\n",
    "tokens = parser(text3)\n",
    "for token in tokens:\n",
    "    print_token(token)"
   ]
  }
 ],
 "metadata": {
  "kernelspec": {
   "display_name": "Python 3 (ipykernel)",
   "language": "python",
   "name": "python3"
  },
  "language_info": {
   "codemirror_mode": {
    "name": "ipython",
    "version": 3
   },
   "file_extension": ".py",
   "mimetype": "text/x-python",
   "name": "python",
   "nbconvert_exporter": "python",
   "pygments_lexer": "ipython3",
   "version": "3.8.10"
  }
 },
 "nbformat": 4,
 "nbformat_minor": 4
}
