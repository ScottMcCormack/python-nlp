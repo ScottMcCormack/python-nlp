{
 "cells": [
  {
   "cell_type": "code",
   "execution_count": 1,
   "metadata": {
    "tags": []
   },
   "outputs": [],
   "source": [
    "# Recall that we can show the part of speech, the dependency, and the head of each token\n",
    "import spacy\n",
    "parser = spacy.load(\"en_core_web_sm\")\n",
    "def show_dep(text):\n",
    "    tokens = parser(text)\n",
    "    for token in tokens:\n",
    "        print(\"{} : {} : {}: {}\".format(token.orth_, token.pos_,token.dep_, token.head))"
   ]
  },
  {
   "cell_type": "code",
   "execution_count": 2,
   "metadata": {},
   "outputs": [
    {
     "name": "stdout",
     "output_type": "stream",
     "text": [
      "token : POS : dep. : head\n",
      "-------------------------\n",
      "She : PRON : nsubj: hit\n",
      "hit : VERB : ROOT: hit\n",
      "the : DET : det: wall\n",
      "wall : NOUN : dobj: hit\n"
     ]
    }
   ],
   "source": [
    "print(\"token : POS : dep. : head\")\n",
    "print(\"-------------------------\")\n",
    "show_dep(\"She hit the wall\")"
   ]
  },
  {
   "cell_type": "code",
   "execution_count": 3,
   "metadata": {
    "tags": []
   },
   "outputs": [],
   "source": [
    "def get_head_of_sentence(text):\n",
    "    tokens = parser(text)\n",
    "    for token in tokens:\n",
    "        if token.head == token:\n",
    "            return token\n",
    "    return None"
   ]
  },
  {
   "cell_type": "code",
   "execution_count": 4,
   "metadata": {},
   "outputs": [
    {
     "data": {
      "text/plain": [
       "hit"
      ]
     },
     "execution_count": 4,
     "metadata": {},
     "output_type": "execute_result"
    }
   ],
   "source": [
    "get_head_of_sentence(\"She hit the wall.\")"
   ]
  }
 ],
 "metadata": {
  "kernelspec": {
   "display_name": "Python 3 (ipykernel)",
   "language": "python",
   "name": "python3"
  },
  "language_info": {
   "codemirror_mode": {
    "name": "ipython",
    "version": 3
   },
   "file_extension": ".py",
   "mimetype": "text/x-python",
   "name": "python",
   "nbconvert_exporter": "python",
   "pygments_lexer": "ipython3",
   "version": "3.8.10"
  }
 },
 "nbformat": 4,
 "nbformat_minor": 4
}
