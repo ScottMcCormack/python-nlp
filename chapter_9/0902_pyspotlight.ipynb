{
 "cells": [
  {
   "cell_type": "code",
   "execution_count": 1,
   "metadata": {},
   "outputs": [],
   "source": [
    "import spotlight\n",
    "HOST = 'https://api.dbpedia-spotlight.org/en/annotate'\n",
    "def get_annotations(text):\n",
    "    try:\n",
    "        annotations = spotlight.annotate(HOST,\n",
    "                                         text,\n",
    "                                         confidence=0.4, support=20)\n",
    "    except spotlight.SpotlightException:\n",
    "        return None # nothing was found\n",
    "    return annotations"
   ]
  },
  {
   "cell_type": "code",
   "execution_count": 2,
   "metadata": {},
   "outputs": [
    {
     "name": "stdout",
     "output_type": "stream",
     "text": [
      "[{'URI': 'http://dbpedia.org/resource/George_W._Bush', 'support': 20753, 'types': 'Http://xmlns.com/foaf/0.1/Person,Wikidata:Q82955,Wikidata:Q5,Wikidata:Q24229398,Wikidata:Q215627,DUL:NaturalPerson,DUL:Agent,Schema:Person,DBpedia:Person,DBpedia:Agent,DBpedia:Politician', 'surfaceForm': 'George Bush', 'offset': 0, 'similarityScore': 0.7147779790694753, 'percentageOfSecondRank': 0.3990357752218605}, {'URI': 'http://dbpedia.org/resource/Chicago', 'support': 128920, 'types': 'Wikidata:Q515,Wikidata:Q486972,Schema:Place,Schema:City,DBpedia:Settlement,DBpedia:PopulatedPlace,DBpedia:Place,DBpedia:Location,DBpedia:City', 'surfaceForm': 'Chicago', 'offset': 20, 'similarityScore': 0.9993854915901147, 'percentageOfSecondRank': 0.00034482219198910327}]\n"
     ]
    }
   ],
   "source": [
    "text = 'George Bush went to Chicago.'\n",
    "print(get_annotations(text))"
   ]
  },
  {
   "cell_type": "code",
   "execution_count": 3,
   "metadata": {},
   "outputs": [],
   "source": [
    "def get_DBpedia_resources(text):\n",
    "    resources = []\n",
    "    annotations = get_annotations(text)\n",
    "    for a in annotations:\n",
    "        resources.append(a['URI'])\n",
    "    return resources"
   ]
  },
  {
   "cell_type": "code",
   "execution_count": 4,
   "metadata": {},
   "outputs": [
    {
     "name": "stdout",
     "output_type": "stream",
     "text": [
      "['http://dbpedia.org/resource/George_W._Bush', 'http://dbpedia.org/resource/Chicago']\n"
     ]
    }
   ],
   "source": [
    "text = 'George Bush went to Chicago.'\n",
    "print(get_DBpedia_resources(text))"
   ]
  }
 ],
 "metadata": {
  "kernelspec": {
   "display_name": "Python 3 (ipykernel)",
   "language": "python",
   "name": "python3"
  },
  "language_info": {
   "codemirror_mode": {
    "name": "ipython",
    "version": 3
   },
   "file_extension": ".py",
   "mimetype": "text/x-python",
   "name": "python",
   "nbconvert_exporter": "python",
   "pygments_lexer": "ipython3",
   "version": "3.8.10"
  }
 },
 "nbformat": 4,
 "nbformat_minor": 4
}
